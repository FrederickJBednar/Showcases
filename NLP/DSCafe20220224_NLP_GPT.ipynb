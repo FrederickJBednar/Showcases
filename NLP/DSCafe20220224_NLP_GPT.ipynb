{
  "nbformat": 4,
  "nbformat_minor": 0,
  "metadata": {
    "colab": {
      "provenance": []
    },
    "kernelspec": {
      "name": "python3",
      "display_name": "Python 3"
    },
    "language_info": {
      "name": "python"
    }
  },
  "cells": [
    {
      "cell_type": "markdown",
      "source": [
        "# NLP & GPT"
      ],
      "metadata": {
        "id": "OPwyOaVJfAV6"
      }
    },
    {
      "cell_type": "code",
      "execution_count": null,
      "metadata": {
        "id": "LnpHpLOme8uj"
      },
      "outputs": [],
      "source": [
        "!pip install openai\n",
        "\n",
        "# Imports\n",
        "import openai\n",
        "import re"
      ]
    },
    {
      "cell_type": "code",
      "source": [
        "# Define classes\n",
        "## \"init\": initializes ChatGPT object with the OpenAI API key.\n",
        "###   models: \n",
        "#text-davinci-003\n",
        "#text-davinci-002\n",
        "#text-curie-001\n",
        "#text-babbage-001\n",
        "#text-ada-001\n",
        "#code-davinci-002\n",
        "#code-cushman-001\n",
        "###   temperature: 0-1, the higher the more \"creative\", usually 0.7-0.9\n",
        "###   max_tokens: max. numbers of tokens used in a batch\n",
        "## \"askGPT\": responses to prompt.\n",
        "\n",
        "class ChatGPTConnector:\n",
        "    def __init__(self, api_key):\n",
        "        openai.api_key = api_key\n",
        "        self.completion = openai.Completion()\n",
        "        self.completion.model = \"text-davinci-002\"\n",
        "        self.completion.temperature = 0.7\n",
        "        self.completion.max_tokens = 1024\n",
        "    \n",
        "    def askGPT(self, prompt):\n",
        "        response = self.completion.create(\n",
        "            prompt=prompt,\n",
        "            engine=self.completion.model,\n",
        "            max_tokens=self.completion.max_tokens,\n",
        "            temperature=self.completion.temperature,\n",
        "        )\n",
        "        message = response.choices[0].text.strip()\n",
        "        message = re.sub('[^0-9a-zA-Z]+', ' ', message)  # Remove special characters\n",
        "        return message\n"
      ],
      "metadata": {
        "id": "1j2MfgoXW4Ma"
      },
      "execution_count": 13,
      "outputs": []
    },
    {
      "cell_type": "code",
      "source": [
        "# Create instance with OpenAI API Key:\n",
        "# https://platform.openai.com/account/api-keys\n",
        "qaInstance = ChatGPTConnector(api_key='YOUR-API-KEY-FROM-OPEN-AI')"
      ],
      "metadata": {
        "id": "oi05AwRCXK2n"
      },
      "execution_count": 14,
      "outputs": []
    },
    {
      "cell_type": "code",
      "source": [
        "# Prompt:\n",
        "response = qaInstance.askGPT(prompt=\"Hello ChatGPT, how are you?\")\n",
        "print(response)"
      ],
      "metadata": {
        "id": "bTkhZKgcXONG"
      },
      "execution_count": null,
      "outputs": []
    },
    {
      "cell_type": "markdown",
      "source": [
        "## Try with Nano GPT to create a model from scratch\n",
        "\n",
        "https://github.com/karpathy/nanoGPT \n"
      ],
      "metadata": {
        "id": "Ht5LdV2ybrHu"
      }
    },
    {
      "cell_type": "markdown",
      "source": [
        "let's use\n",
        "https://colab.research.google.com/drive/1MdS8w6KktGEhdaGkJJy42k10stdwv7h-#scrollTo=6xWI_VyAsN8F \n",
        "\n",
        "\n",
        "--\n",
        "MIT License\n",
        "\n",
        "Copyright (c) 2022 Andrej Karpathy\n",
        "\n",
        "Permission is hereby granted, free of charge, to any person obtaining a copy\n",
        "of this software and associated documentation files (the \"Software\"), to deal\n",
        "in the Software without restriction, including without limitation the rights\n",
        "to use, copy, modify, merge, publish, distribute, sublicense, and/or sell\n",
        "copies of the Software, and to permit persons to whom the Software is\n",
        "furnished to do so, subject to the following conditions:\n",
        "\n",
        "The above copyright notice and this permission notice shall be included in all\n",
        "copies or substantial portions of the Software.\n",
        "\n",
        "THE SOFTWARE IS PROVIDED \"AS IS\", WITHOUT WARRANTY OF ANY KIND, EXPRESS OR\n",
        "IMPLIED, INCLUDING BUT NOT LIMITED TO THE WARRANTIES OF MERCHANTABILITY,\n",
        "FITNESS FOR A PARTICULAR PURPOSE AND NONINFRINGEMENT. IN NO EVENT SHALL THE\n",
        "AUTHORS OR COPYRIGHT HOLDERS BE LIABLE FOR ANY CLAIM, DAMAGES OR OTHER\n",
        "LIABILITY, WHETHER IN AN ACTION OF CONTRACT, TORT OR OTHERWISE, ARISING FROM,\n",
        "OUT OF OR IN CONNECTION WITH THE SOFTWARE OR THE USE OR OTHER DEALINGS IN THE\n",
        "SOFTWARE.*"
      ],
      "metadata": {
        "id": "9akmBR59ci6W"
      }
    },
    {
      "cell_type": "code",
      "source": [],
      "metadata": {
        "id": "w2VUxZgzccWr"
      },
      "execution_count": null,
      "outputs": []
    }
  ]
}